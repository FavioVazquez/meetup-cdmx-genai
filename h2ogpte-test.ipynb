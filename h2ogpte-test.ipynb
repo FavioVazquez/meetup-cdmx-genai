{
 "cells": [
  {
   "cell_type": "markdown",
   "id": "27bcd09dab4ef5d8",
   "metadata": {
    "collapsed": false
   },
   "source": [
    "# Notebook 1: H2OGPTe - Introduction\n",
    "## Favio Vázquez\n",
    "\n",
    "![](front.png)"
   ]
  },
  {
   "cell_type": "markdown",
   "id": "7bd55312b4111497",
   "metadata": {
    "collapsed": false
   },
   "source": [
    "## Installation and setup"
   ]
  },
  {
   "cell_type": "code",
   "execution_count": null,
   "id": "a248b2e8a312ca73",
   "metadata": {
    "collapsed": false
   },
   "outputs": [],
   "source": [
    "from h2ogpte import H2OGPTE\n",
    "from dotenv import load_dotenv\n",
    "import os"
   ]
  },
  {
   "cell_type": "code",
   "execution_count": null,
   "id": "ce55ca59842ead68",
   "metadata": {
    "collapsed": false
   },
   "outputs": [],
   "source": [
    "load_dotenv()\n",
    "\n",
    "h2ogpte_keys = {\n",
    "            \"address\": os.getenv(\"H2OGPTE_ADDRESS\"),\n",
    "            \"api_key\": os.getenv(\"H2OGPTE_API_KEY\"),\n",
    "        }\n",
    "\n",
    "client = H2OGPTE(**h2ogpte_keys)"
   ]
  },
  {
   "cell_type": "code",
   "execution_count": null,
   "id": "3c825916f004daf1",
   "metadata": {
    "collapsed": false
   },
   "outputs": [],
   "source": [
    "LLM = 'mistralai/Mixtral-8x7B-Instruct-v0.1'"
   ]
  },
  {
   "cell_type": "markdown",
   "id": "f23c5f4299df7350",
   "metadata": {
    "collapsed": false
   },
   "source": [
    "## Basic questions and usage"
   ]
  },
  {
   "cell_type": "code",
   "execution_count": null,
   "id": "dedc4f225f1cef95",
   "metadata": {
    "collapsed": false
   },
   "outputs": [],
   "source": [
    "answer = client.answer_question(question=\"Who are you?\", llm=LLM).content\n",
    "print(f\"{LLM}: {answer}\", flush=True)"
   ]
  },
  {
   "cell_type": "code",
   "execution_count": null,
   "id": "ad61560aeaff6f2f",
   "metadata": {
    "collapsed": false
   },
   "outputs": [],
   "source": [
    "answer = client.answer_question(question=\"Who created you?\", llm=LLM).content\n",
    "print(f\"{LLM}: {answer}\", flush=True)"
   ]
  },
  {
   "cell_type": "code",
   "execution_count": null,
   "id": "171e4692040950a4",
   "metadata": {
    "collapsed": false
   },
   "outputs": [],
   "source": [
    "answer = client.answer_question(system_prompt=\"You are FavioGPT, created by Favio Vázquez\",\n",
    "                                question=\"Who created you?\", \n",
    "                                llm=LLM).content\n",
    "print(f\"{LLM}: {answer}\", flush=True)"
   ]
  },
  {
   "cell_type": "markdown",
   "id": "e5beb455e8b3c6c2",
   "metadata": {
    "collapsed": false
   },
   "source": [
    "## Memory"
   ]
  },
  {
   "cell_type": "code",
   "execution_count": null,
   "id": "e752f68dcedf8979",
   "metadata": {
    "collapsed": false
   },
   "outputs": [],
   "source": [
    "answer = client.answer_question(question=\"Why is the sky blue?\", llm=LLM).content\n",
    "print(f\"{LLM}: {answer}\", flush=True)"
   ]
  },
  {
   "cell_type": "code",
   "execution_count": null,
   "id": "5d81fb940f08f4e1",
   "metadata": {
    "collapsed": false
   },
   "outputs": [],
   "source": [
    "answer = client.answer_question(question=\"What about the grass?\", llm=LLM).content\n",
    "print(f\"{LLM}: {answer}\", flush=True)"
   ]
  },
  {
   "cell_type": "code",
   "execution_count": null,
   "id": "21799bd1c43b0b24",
   "metadata": {
    "collapsed": false
   },
   "outputs": [],
   "source": [
    "# Initialize a variable for conversation history\n",
    "conversation_history = \"\"\n",
    "\n",
    "def converse_with_ai(new_question):\n",
    "    global conversation_history\n",
    "\n",
    "    # Update the conversation history with the new question\n",
    "    conversation_history += f\"You: {new_question}\\nAI: \"\n",
    "\n",
    "    # Get the model's response\n",
    "    completion = client.answer_question(question=conversation_history, llm=LLM)\n",
    "    model_response = completion.content\n",
    "\n",
    "    # Update the conversation history with the model's response\n",
    "    conversation_history += model_response + \"\\n\"\n",
    "\n",
    "    return model_response"
   ]
  },
  {
   "cell_type": "code",
   "execution_count": null,
   "id": "734e77910c08016",
   "metadata": {
    "collapsed": false
   },
   "outputs": [],
   "source": [
    "converse_with_ai(\"Why is the sky blue?\")"
   ]
  },
  {
   "cell_type": "code",
   "execution_count": null,
   "id": "117c76998c456ef6",
   "metadata": {
    "collapsed": false
   },
   "outputs": [],
   "source": [
    "converse_with_ai(\"What about the grass?\")"
   ]
  },
  {
   "cell_type": "code",
   "execution_count": null,
   "id": "9cbf6eb07dbcf9ad",
   "metadata": {
    "collapsed": false
   },
   "outputs": [],
   "source": [
    "converse_with_ai(\"My name is Favio\")"
   ]
  },
  {
   "cell_type": "code",
   "execution_count": null,
   "id": "fe2eb280ea4b6707",
   "metadata": {
    "collapsed": false
   },
   "outputs": [],
   "source": [
    "converse_with_ai(\"What is my name?\")"
   ]
  }
 ],
 "metadata": {
  "kernelspec": {
   "display_name": "Python 3 (ipykernel)",
   "language": "python",
   "name": "python3"
  },
  "language_info": {
   "codemirror_mode": {
    "name": "ipython",
    "version": 3
   },
   "file_extension": ".py",
   "mimetype": "text/x-python",
   "name": "python",
   "nbconvert_exporter": "python",
   "pygments_lexer": "ipython3",
   "version": "3.11.8"
  }
 },
 "nbformat": 4,
 "nbformat_minor": 5
}
