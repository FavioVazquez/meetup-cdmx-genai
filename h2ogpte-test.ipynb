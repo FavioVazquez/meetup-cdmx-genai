{
 "cells": [
  {
   "cell_type": "markdown",
   "source": [
    "# Notebook 1: H2OGPTe - Introduction\n",
    "## Favio Vázquez\n",
    "\n",
    "![](front.png)"
   ],
   "metadata": {
    "collapsed": false
   },
   "id": "27bcd09dab4ef5d8"
  },
  {
   "cell_type": "markdown",
   "source": [
    "## Installation and setup"
   ],
   "metadata": {
    "collapsed": false
   },
   "id": "7bd55312b4111497"
  },
  {
   "cell_type": "code",
   "outputs": [],
   "source": [
    "from h2ogpte import H2OGPTE\n",
    "from dotenv import load_dotenv\n",
    "import os"
   ],
   "metadata": {
    "collapsed": false
   },
   "id": "a248b2e8a312ca73",
   "execution_count": null
  },
  {
   "cell_type": "code",
   "outputs": [],
   "source": [
    "load_dotenv()\n",
    "\n",
    "h2ogpte_keys = {\n",
    "            \"address\": os.getenv(\"H2OGPTE_ADDRESS\"),\n",
    "            \"api_key\": os.getenv(\"H2OGPTE_KEY\"),\n",
    "        }\n",
    "\n",
    "client = H2OGPTE(**h2ogpte_keys)"
   ],
   "metadata": {
    "collapsed": false
   },
   "id": "ce55ca59842ead68",
   "execution_count": null
  },
  {
   "cell_type": "code",
   "outputs": [],
   "source": [
    "LLM = 'mistralai/Mixtral-8x7B-Instruct-v0.1'"
   ],
   "metadata": {
    "collapsed": false
   },
   "id": "3c825916f004daf1",
   "execution_count": null
  },
  {
   "cell_type": "markdown",
   "source": [
    "## Basic questions and usage"
   ],
   "metadata": {
    "collapsed": false
   },
   "id": "f23c5f4299df7350"
  },
  {
   "cell_type": "code",
   "outputs": [],
   "source": [
    "answer = client.answer_question(question=\"Who are you?\", llm=LLM).content\n",
    "print(f\"{LLM}: {answer}\", flush=True)"
   ],
   "metadata": {
    "collapsed": false
   },
   "id": "dedc4f225f1cef95",
   "execution_count": null
  },
  {
   "cell_type": "code",
   "outputs": [],
   "source": [
    "answer = client.answer_question(question=\"Who created you?\", llm=LLM).content\n",
    "print(f\"{LLM}: {answer}\", flush=True)"
   ],
   "metadata": {
    "collapsed": false
   },
   "id": "ad61560aeaff6f2f",
   "execution_count": null
  },
  {
   "cell_type": "code",
   "outputs": [],
   "source": [
    "answer = client.answer_question(system_prompt=\"You are FavioGPT, created by Favio Vázquez\",\n",
    "                                question=\"Who created you?\", \n",
    "                                llm=LLM).content\n",
    "print(f\"{LLM}: {answer}\", flush=True)"
   ],
   "metadata": {
    "collapsed": false
   },
   "id": "171e4692040950a4",
   "execution_count": null
  },
  {
   "cell_type": "markdown",
   "source": [
    "## Memory"
   ],
   "metadata": {
    "collapsed": false
   },
   "id": "e5beb455e8b3c6c2"
  },
  {
   "cell_type": "code",
   "outputs": [],
   "source": [
    "answer = client.answer_question(question=\"Why is the sky blue?\", llm=LLM).content\n",
    "print(f\"{LLM}: {answer}\", flush=True)"
   ],
   "metadata": {
    "collapsed": false
   },
   "id": "e752f68dcedf8979",
   "execution_count": null
  },
  {
   "cell_type": "code",
   "outputs": [],
   "source": [
    "answer = client.answer_question(question=\"What about the grass?\", llm=LLM).content\n",
    "print(f\"{LLM}: {answer}\", flush=True)"
   ],
   "metadata": {
    "collapsed": false
   },
   "id": "5d81fb940f08f4e1",
   "execution_count": null
  },
  {
   "cell_type": "code",
   "outputs": [],
   "source": [
    "# Initialize a variable for conversation history\n",
    "conversation_history = \"\"\n",
    "\n",
    "def converse_with_ai(new_question):\n",
    "    global conversation_history\n",
    "\n",
    "    # Update the conversation history with the new question\n",
    "    conversation_history += f\"You: {new_question}\\nAI: \"\n",
    "\n",
    "    # Get the model's response\n",
    "    completion = client.answer_question(question=conversation_history, llm=LLM)\n",
    "    model_response = completion.content\n",
    "\n",
    "    # Update the conversation history with the model's response\n",
    "    conversation_history += model_response + \"\\n\"\n",
    "\n",
    "    return model_response"
   ],
   "metadata": {
    "collapsed": false
   },
   "id": "21799bd1c43b0b24",
   "execution_count": null
  },
  {
   "cell_type": "code",
   "outputs": [],
   "source": [
    "converse_with_ai(\"Why is the sky blue?\")"
   ],
   "metadata": {
    "collapsed": false
   },
   "id": "734e77910c08016",
   "execution_count": null
  },
  {
   "cell_type": "code",
   "outputs": [],
   "source": [
    "converse_with_ai(\"What about the grass?\")"
   ],
   "metadata": {
    "collapsed": false
   },
   "id": "117c76998c456ef6",
   "execution_count": null
  },
  {
   "cell_type": "code",
   "outputs": [],
   "source": [
    "converse_with_ai(\"My name is Favio\")"
   ],
   "metadata": {
    "collapsed": false
   },
   "id": "9cbf6eb07dbcf9ad",
   "execution_count": null
  },
  {
   "cell_type": "code",
   "outputs": [],
   "source": [
    "converse_with_ai(\"What is my name?\")"
   ],
   "metadata": {
    "collapsed": false
   },
   "id": "fe2eb280ea4b6707",
   "execution_count": null
  }
 ],
 "metadata": {
  "kernelspec": {
   "display_name": "Python 3",
   "language": "python",
   "name": "python3"
  },
  "language_info": {
   "codemirror_mode": {
    "name": "ipython",
    "version": 2
   },
   "file_extension": ".py",
   "mimetype": "text/x-python",
   "name": "python",
   "nbconvert_exporter": "python",
   "pygments_lexer": "ipython2",
   "version": "2.7.6"
  }
 },
 "nbformat": 4,
 "nbformat_minor": 5
}
