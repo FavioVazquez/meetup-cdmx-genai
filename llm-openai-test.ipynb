{
 "cells": [
  {
   "cell_type": "markdown",
   "source": [
    "# Notebook 2: OpenAI API with custom models\n",
    "## Favio Vázquez\n",
    "\n",
    "![](front.png)"
   ],
   "metadata": {
    "collapsed": false
   },
   "id": "dad38b5318889ee5"
  },
  {
   "cell_type": "markdown",
   "source": [
    "## Installing the OpenAI Python package"
   ],
   "metadata": {
    "collapsed": false
   },
   "id": "ca424f00b1394ae9"
  },
  {
   "cell_type": "code",
   "outputs": [],
   "source": [
    "!pip install openai"
   ],
   "metadata": {
    "collapsed": false
   },
   "id": "15182c27c419d4ee",
   "execution_count": null
  },
  {
   "cell_type": "markdown",
   "source": [
    "## Using the OpenAI API"
   ],
   "metadata": {
    "collapsed": false
   },
   "id": "60e1893d2233312b"
  },
  {
   "cell_type": "code",
   "execution_count": null,
   "id": "initial_id",
   "metadata": {
    "collapsed": true
   },
   "outputs": [],
   "source": [
    "from openai import OpenAI\n",
    "\n",
    "\n",
    "client = OpenAI(\n",
    "    base_url=\"\",\n",
    "    api_key=\"\"\n",
    ")\n",
    "\n",
    "model = client.models.list().data[0].id\n",
    "\n",
    "completion = client.completions.create(\n",
    "    model=model,\n",
    "    prompt=\"Why is the sky blue?\",\n",
    "    max_tokens=256,\n",
    "    temperature=0,\n",
    "    stream=True\n",
    ")\n",
    "for c in completion:\n",
    "    print(c.choices[0].text, end=\"\", sep=\"\")"
   ]
  },
  {
   "cell_type": "code",
   "outputs": [],
   "source": [
    "completion = client.completions.create(\n",
    "    model=model,\n",
    "    prompt=\"What about the grass?\",\n",
    "    max_tokens=256,\n",
    "    temperature=0,\n",
    "    stream=True\n",
    ")\n",
    "for c in completion:\n",
    "    print(c.choices[0].text, end=\"\", sep=\"\")"
   ],
   "metadata": {
    "collapsed": false
   },
   "id": "d466bb2765b188ca",
   "execution_count": null
  },
  {
   "cell_type": "markdown",
   "source": [
    "## Conversing with the AI with history (\"memory\")"
   ],
   "metadata": {
    "collapsed": false
   },
   "id": "1a83a55be429d8f0"
  },
  {
   "cell_type": "code",
   "outputs": [],
   "source": [
    "# Initialize a variable for conversation history\n",
    "conversation_history = \"\"\n",
    "\n",
    "def converse_with_ai(new_question):\n",
    "    global conversation_history\n",
    "    if new_question.lower() == \"exit\":\n",
    "        return \"Exiting conversation.\"\n",
    "\n",
    "    # Update the conversation history with the new question\n",
    "    conversation_history += f\"You: {new_question}\\nAI: \"\n",
    "\n",
    "    # Get the model's response\n",
    "    completion = client.completions.create(\n",
    "        model=model,\n",
    "        prompt=conversation_history,\n",
    "        max_tokens=150,\n",
    "        temperature=0.9,\n",
    "        stop=[\"\\nYou:\"]  # Stops generating text at the next user prompt\n",
    "    )\n",
    "\n",
    "    model_response = completion.choices[0].text.strip()\n",
    "    print(f\"AI: {model_response}\")\n",
    "\n",
    "    # Update the conversation history with the model's response\n",
    "    conversation_history += model_response + \"\\n\"\n",
    "\n",
    "    return model_response"
   ],
   "metadata": {
    "collapsed": false
   },
   "id": "a9f1a28884a677c4",
   "execution_count": null
  },
  {
   "cell_type": "code",
   "outputs": [],
   "source": [
    "# Example usage\n",
    "response = converse_with_ai(\"Why is the sky blue?\")\n",
    "print(response)"
   ],
   "metadata": {
    "collapsed": false
   },
   "id": "d7d5e2465bd81e3c",
   "execution_count": null
  },
  {
   "cell_type": "code",
   "outputs": [],
   "source": [
    "response = converse_with_ai(\"What about the grass?\")"
   ],
   "metadata": {
    "collapsed": false
   },
   "id": "1808a78437dce558",
   "execution_count": null
  }
 ],
 "metadata": {
  "kernelspec": {
   "display_name": "Python 3",
   "language": "python",
   "name": "python3"
  },
  "language_info": {
   "codemirror_mode": {
    "name": "ipython",
    "version": 2
   },
   "file_extension": ".py",
   "mimetype": "text/x-python",
   "name": "python",
   "nbconvert_exporter": "python",
   "pygments_lexer": "ipython2",
   "version": "2.7.6"
  }
 },
 "nbformat": 4,
 "nbformat_minor": 5
}
